{
 "cells": [
  {
   "cell_type": "markdown",
   "metadata": {},
   "source": [
    "Nota: Escrito sin acentos ni egnes.\n",
    "\n",
    "Simulacion del modelo autoregresivo con marginales Gamma(a,1), y estimacion por medio del algoritmo Expectation-Maximization (EM) con calulo de esperanzas condicionales utilizando al algoritmo de Markov Chain Monte Carlo (MCMC) Metropolis Hastings.\n",
    "\n",
    "Revisar archivo pdf para detalles teoricos y resultados de las simulaciones."
   ]
  },
  {
   "cell_type": "code",
   "execution_count": 4,
   "metadata": {},
   "outputs": [],
   "source": [
    "using Random\n",
    "using SpecialFunctions\n",
    "using Distributions\n",
    "using StatsBase"
   ]
  },
  {
   "cell_type": "markdown",
   "metadata": {},
   "source": [
    "Primero se define una function llamada target, donde se van a dar como argumentos a, phi, x, y1 y y2 y se devuelve el logaritmo de la distribucion objetivo de la cual se quieren estimar esperanzas en el algoritmo MCMC Metropolis Hastings. y1 y y2 representan la observacion at tiempo t y al tiempo t+1 respectivamente."
   ]
  },
  {
   "cell_type": "code",
   "execution_count": 6,
   "metadata": {},
   "outputs": [
    {
     "data": {
      "text/plain": [
       "target (generic function with 1 method)"
      ]
     },
     "execution_count": 6,
     "metadata": {},
     "output_type": "execute_result"
    }
   ],
   "source": [
    "function target(x,y1,y2,a,phi)\n",
    "  return (a+x)*log(1+phi) - lgamma(a+x) + (a+x-1)*log(y2) - (1+phi)*y2 - (phi*y1) + x*log(phi*y1) - lgamma(x+1)\n",
    "end"
   ]
  },
  {
   "cell_type": "markdown",
   "metadata": {},
   "source": [
    "Ahora se define la funcion MCMC con la cual se construye la cadena de Markov con la distribucion target deseada."
   ]
  },
  {
   "cell_type": "code",
   "execution_count": 7,
   "metadata": {},
   "outputs": [
    {
     "data": {
      "text/plain": [
       "MCMC (generic function with 1 method)"
      ]
     },
     "execution_count": 7,
     "metadata": {},
     "output_type": "execute_result"
    }
   ],
   "source": [
    "function MCMC(N,a,phi,y1,y2)\n",
    "    #iter=1\n",
    "    x=zeros(N)\n",
    "#Valor inicial de x a partir de una Poisson\n",
    "    lambda=phi*mean([y1,y2,a])\n",
    "    x[1]=rand( Poisson(lambda))\n",
    "    #Se utiliza un for para iterar hasta llegar al numero N de iteraciones deseadas\n",
    "    for i in 2:N\n",
    "        x_prop=rand( Poisson(lambda))\n",
    "        #Calcular la probabilidad de aceptacion\n",
    "        #Se aplica logaritmo para evitar problemas numericos\n",
    "        log_alfa = target(x_prop,y1,y2,a,phi) - target(x[i-1],y1,y2,a,phi) + log(pdf(Poisson(lambda),x[i-1])) - log(pdf(Poisson(lambda),x_prop))\n",
    "        #Se actualiza x y se almacena en un vector para formar la cadena\n",
    "        u=rand()\n",
    "        x[i]=x_prop*(log(u)<=log_alfa)*1 + x[i-1]*(log(u)>log_alfa)*1\n",
    "    end\n",
    "    return x\n",
    "end"
   ]
  },
  {
   "cell_type": "markdown",
   "metadata": {},
   "source": [
    "Ahora se define la funcion que genera trayectorias del proceso (Yt,Xt), con el fin de poner a prueba el algoritmo EM y estimar parametros a partir de series simuladas."
   ]
  },
  {
   "cell_type": "code",
   "execution_count": 8,
   "metadata": {},
   "outputs": [
    {
     "data": {
      "text/plain": [
       "serie (generic function with 1 method)"
      ]
     },
     "execution_count": 8,
     "metadata": {},
     "output_type": "execute_result"
    }
   ],
   "source": [
    "function serie(a,phi,M)\n",
    "    #La primera observacion se muestrea de la distribucion estacionaria Gamma(a,1)\n",
    "    y=rand(Gamma(a,1))\n",
    "    #Se genera x a partir de la distribucion condicional\n",
    "    x=rand(Poisson(phi*y))\n",
    "    i=1\n",
    "    #se repite el procedimiento hasta alcanzar el tamano de trayectoria deseado\n",
    "  while i < M \n",
    "    y=[y;rand(Gamma(a+x[length(x)],1/(1+phi)))]\n",
    "    x=[x;rand(Poisson(phi*y[length(y)]))]\n",
    "    i=i+1\n",
    "    end\n",
    "    return hcat(y,x)\n",
    "end"
   ]
  },
  {
   "cell_type": "markdown",
   "metadata": {},
   "source": [
    "El paso siguiente es hacer la estimacion de las esperanzas condicionales involucradas, a traves de una funcion llama condicionales, que toma como parametros N el tamano total de las cadenas a ser usadas en la estimacion, M el periodo burn-in, $a$ y $\\phi$ los parametros, y $y$ la serie de tiempo."
   ]
  },
  {
   "cell_type": "code",
   "execution_count": 11,
   "metadata": {},
   "outputs": [
    {
     "data": {
      "text/plain": [
       "condicionales (generic function with 1 method)"
      ]
     },
     "execution_count": 11,
     "metadata": {},
     "output_type": "execute_result"
    }
   ],
   "source": [
    "function condicionales(N,M,a,phi,y)\n",
    "    x=zeros(length(y)-1)\n",
    "    for i in 1:length(x)\n",
    "    #Se aplica la funcion MCMC a cada par de observaciones consecutivas de la serie\n",
    "    cadena=MCMC(N,a,phi,y[i],y[i+1])[M+1:N]\n",
    "    x[i]=mean(cadena)\n",
    "    end\n",
    "  return x\n",
    "end"
   ]
  },
  {
   "cell_type": "markdown",
   "metadata": {},
   "source": [
    "Posteriormente se ejecuta el algoritmo EM utilizando una funcion llamada EM. Los parametros que toma la funcion son $a$, el valor inicial de $\\phi$, la serie de tiempo $y$, N y M el tamano y burn-in de las cadenas de Markov empleadas en el MCMC, I el numero maximo de iteraciones en el algoritmo EM, y Q el numero de terminos incluidos en el promedio movil para definir cuando detener el algoritmo. La funcion devuelve una lista, cuyo primer elemento es un vector con los valores de $\\phi$ en cada iteracion, y el segundo elemento de la lista es un vector con los valores de los promedios."
   ]
  },
  {
   "cell_type": "code",
   "execution_count": 16,
   "metadata": {},
   "outputs": [
    {
     "data": {
      "text/plain": [
       "EM (generic function with 1 method)"
      ]
     },
     "execution_count": 16,
     "metadata": {},
     "output_type": "execute_result"
    }
   ],
   "source": [
    "function EM(a,phi_ini,y,N,M,I,Q)\n",
    "#Paso 1-Actualizar el parametro por primera vez\n",
    "    #se estiman las esperanzas condicionales\n",
    "    cond=condicionales(N,M,a,phi_ini,y)\n",
    "    K1=(length(y)-1)*a + 2*sum(cond)\n",
    "    K2=sum(cond)\n",
    "    K3=2*sum(y) - y[1] - y[length(y)]\n",
    "    #se actualiza el valor de phi maximizando la esperanza condicional de la log-verosimilitud completa\n",
    "    fi=((K1-K3)+sqrt((K1-K3)^2 + 4*K3*K2))/(2*K3)  \n",
    "    phi=[phi_ini;fi]\n",
    "    ma=zeros(I)\n",
    "    #Esta funcion imprime cada que acaba una iteracion para poder observar como va creciendo o decreciendo \n",
    "    #el valor de phi, y del promedio movil, y saber en que iteracion va el algoritmo\n",
    "    #y que tan rapida es cada iteracion\n",
    "    print(\"It \")\n",
    "    print(1)\n",
    "    print(\" = \")\n",
    "    print(fi)\n",
    "    print(\", MA \")\n",
    "    print(\" = \")\n",
    "    print(ma[1])\n",
    " #Paso i   \n",
    "  for i in 2:Q\n",
    "    cond=condicionales(N,M,a,phi[i],y)\n",
    "    K1=(length(y)-1)*a + 2*sum(cond)\n",
    "    K2=sum(cond)\n",
    "    fi=((K1-K3)+sqrt((K1-K3)^2 + 4*K3*K2))/(2*K3)\n",
    "    phi=[phi;fi]\n",
    "    print(\", It \")\n",
    "    print(i)\n",
    "    print(\" = \")\n",
    "    print(fi)\n",
    "    print(\", MA \")\n",
    "    print(\" = \")\n",
    "    print(ma[i])    \n",
    "    end\n",
    "    for i in Q+1:Q+2\n",
    "    cond=condicionales(N,M,a,phi[i],y)\n",
    "    K1=(length(y)-1)*a + 2*sum(cond)\n",
    "    K2=sum(cond)\n",
    "    fi=((K1-K3)+sqrt((K1-K3)^2 + 4*K3*K2))/(2*K3)\n",
    "    phi=[phi;fi]\n",
    "    ma[i]=mean(phi[i-Q:end])\n",
    "    print(\", It \")\n",
    "    print(i)\n",
    "    print(\" = \")\n",
    "    print(fi)\n",
    "    print(\", MA \")\n",
    "    print(\" = \")\n",
    "    print(ma[i])\n",
    "    end\n",
    "    for i in Q+3:I\n",
    "    cond=condicionales(N,M,a,phi[i],y)\n",
    "    K1=(length(y)-1)*a + 2*sum(cond)\n",
    "    K2=sum(cond)\n",
    "    fi=((K1-K3)+sqrt((K1-K3)^2 + 4*K3*K2))/(2*K3)\n",
    "    phi=[phi;fi]\n",
    "    ma[i]=mean(phi[i-Q:end])\n",
    "    print(\", It \")\n",
    "    print(i)\n",
    "    print(\" = \")\n",
    "    print(fi)\n",
    "    print(\", MA \")\n",
    "    print(\" = \")\n",
    "    print(ma[i])\n",
    "        if sign(ma[i]-ma[i-1])!=sign(ma[i-1]-ma[i-2])\n",
    "            \n",
    "            break\n",
    "        end\n",
    "    end\n",
    "  return [phi,ma[ma.!=0]]\n",
    "end"
   ]
  }
 ],
 "metadata": {
  "kernelspec": {
   "display_name": "Julia 1.2.0",
   "language": "julia",
   "name": "julia-1.2"
  },
  "language_info": {
   "file_extension": ".jl",
   "mimetype": "application/julia",
   "name": "julia",
   "version": "1.2.0"
  }
 },
 "nbformat": 4,
 "nbformat_minor": 2
}
